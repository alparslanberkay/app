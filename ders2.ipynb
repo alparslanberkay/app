{
 "cells": [
  {
   "cell_type": "markdown",
   "id": "c828c5a6",
   "metadata": {},
   "source": [
    "## ders2 dosyasındayız "
   ]
  },
  {
   "cell_type": "markdown",
   "id": "cc2ee235",
   "metadata": {},
   "source": [
    "##  ders1 ve ders2 dosyalarını olustudum"
   ]
  },
  {
   "cell_type": "markdown",
   "id": "7ce5f932",
   "metadata": {},
   "source": [
    "Şu ana kadar lokalde çalıştım kodlarımı ve markdown dosyalarımı yazdım.\n",
    "Lokale kaydettim \n",
    "Şimdi ise bu dosyaları Githuba yükleyeceğim\n"
   ]
  },
  {
   "cell_type": "code",
   "execution_count": 1,
   "id": "d18089af",
   "metadata": {},
   "outputs": [
    {
     "name": "stdout",
     "output_type": "stream",
     "text": [
      "Denemeler devam ediyor\n"
     ]
    }
   ],
   "source": [
    "print(\"Denemeler devam ediyor\")"
   ]
  },
  {
   "cell_type": "markdown",
   "id": "71fc38ee",
   "metadata": {},
   "source": [
    "Githubta new repo olusturdum ve linkini aldım Git Bashte git remote add origin https://github.com/alparslanberkay/app.git yaparak deneyeceğim"
   ]
  },
  {
   "cell_type": "code",
   "execution_count": null,
   "id": "7f9b6084",
   "metadata": {},
   "outputs": [],
   "source": []
  }
 ],
 "metadata": {
  "kernelspec": {
   "display_name": "Python 3 (ipykernel)",
   "language": "python",
   "name": "python3"
  },
  "language_info": {
   "codemirror_mode": {
    "name": "ipython",
    "version": 3
   },
   "file_extension": ".py",
   "mimetype": "text/x-python",
   "name": "python",
   "nbconvert_exporter": "python",
   "pygments_lexer": "ipython3",
   "version": "3.11.5"
  }
 },
 "nbformat": 4,
 "nbformat_minor": 5
}
