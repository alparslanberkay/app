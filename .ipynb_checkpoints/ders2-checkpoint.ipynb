{
 "cells": [
  {
   "cell_type": "markdown",
   "id": "1597ccc9",
   "metadata": {},
   "source": [
    "## ders2 dosyasındayız "
   ]
  },
  {
   "cell_type": "markdown",
   "id": "a4354279",
   "metadata": {},
   "source": [
    "##  ders1 ve ders2 dosyalarını olustudum"
   ]
  },
  {
   "cell_type": "markdown",
   "id": "2de19d1b",
   "metadata": {},
   "source": [
    "Şu ana kadar lokalde çalıştım kodlarımı ve markdown dosyalarımı yazdım.\n",
    "Lokale kaydettim \n",
    "Şimdi ise bu dosyaları Githuba yükleyeceğim\n"
   ]
  },
  {
   "cell_type": "code",
   "execution_count": 1,
   "id": "306f2d21",
   "metadata": {},
   "outputs": [
    {
     "name": "stdout",
     "output_type": "stream",
     "text": [
      "Denemeler devam ediyor\n"
     ]
    }
   ],
   "source": [
    "print(\"Denemeler devam ediyor\")"
   ]
  },
  {
   "cell_type": "markdown",
   "id": "eff6e1ba",
   "metadata": {},
   "source": [
    "Githubta new repo olusturdum ve linkini aldım Git Bashte git remote add origin https://github.com/alparslanberkay/app.git yaparak deneyeceğim"
   ]
  }
 ],
 "metadata": {
  "kernelspec": {
   "display_name": "Python 3 (ipykernel)",
   "language": "python",
   "name": "python3"
  },
  "language_info": {
   "codemirror_mode": {
    "name": "ipython",
    "version": 3
   },
   "file_extension": ".py",
   "mimetype": "text/x-python",
   "name": "python",
   "nbconvert_exporter": "python",
   "pygments_lexer": "ipython3",
   "version": "3.11.5"
  }
 },
 "nbformat": 4,
 "nbformat_minor": 5
}
