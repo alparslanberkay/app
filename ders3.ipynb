{
 "cells": [
  {
   "cell_type": "markdown",
   "id": "5b7faa3d",
   "metadata": {},
   "source": [
    "# ders1 ve ders2 githuba yüklendi\n",
    "\n",
    "## ders3 te değişiklik yapıp windows bash ile Githuba yükleme yapacağım (push)"
   ]
  },
  {
   "cell_type": "code",
   "execution_count": 1,
   "id": "cd50bc1e",
   "metadata": {},
   "outputs": [
    {
     "name": "stdout",
     "output_type": "stream",
     "text": [
      "Bu kodu Githubtan okuyorsan başarmışızdır \n"
     ]
    }
   ],
   "source": [
    "print(\"Bu kodu Githubtan okuyorsan başarmışızdır \")"
   ]
  },
  {
   "cell_type": "code",
   "execution_count": null,
   "id": "4eca3877",
   "metadata": {},
   "outputs": [],
   "source": []
  }
 ],
 "metadata": {
  "kernelspec": {
   "display_name": "Python 3 (ipykernel)",
   "language": "python",
   "name": "python3"
  },
  "language_info": {
   "codemirror_mode": {
    "name": "ipython",
    "version": 3
   },
   "file_extension": ".py",
   "mimetype": "text/x-python",
   "name": "python",
   "nbconvert_exporter": "python",
   "pygments_lexer": "ipython3",
   "version": "3.11.5"
  }
 },
 "nbformat": 4,
 "nbformat_minor": 5
}
