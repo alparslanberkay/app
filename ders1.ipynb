{
 "cells": [
  {
   "cell_type": "markdown",
   "id": "22650f98",
   "metadata": {},
   "source": [
    "### Anaconda & Jupyter Notebook ile Githuba dosya yükleyeceğim."
   ]
  },
  {
   "cell_type": "code",
   "execution_count": 2,
   "id": "6a5816fe",
   "metadata": {
    "scrolled": true
   },
   "outputs": [
    {
     "name": "stdout",
     "output_type": "stream",
     "text": [
      "anaconda ve Jupyter Notebook ile Githuba dosya yükleyeceğim\n"
     ]
    }
   ],
   "source": [
    "print(\"anaconda ve Jupyter Notebook ile Githuba dosya yükleyeceğim\")\n"
   ]
  },
  {
   "cell_type": "code",
   "execution_count": 3,
   "id": "91006895",
   "metadata": {},
   "outputs": [
    {
     "name": "stdout",
     "output_type": "stream",
     "text": [
      "10\n"
     ]
    }
   ],
   "source": [
    "a =5\n",
    "b=5\n",
    "sonuc = a+b\n",
    "print(sonuc)"
   ]
  },
  {
   "cell_type": "code",
   "execution_count": null,
   "id": "4fd7d276",
   "metadata": {},
   "outputs": [],
   "source": []
  }
 ],
 "metadata": {
  "kernelspec": {
   "display_name": "Python 3 (ipykernel)",
   "language": "python",
   "name": "python3"
  },
  "language_info": {
   "codemirror_mode": {
    "name": "ipython",
    "version": 3
   },
   "file_extension": ".py",
   "mimetype": "text/x-python",
   "name": "python",
   "nbconvert_exporter": "python",
   "pygments_lexer": "ipython3",
   "version": "3.11.5"
  }
 },
 "nbformat": 4,
 "nbformat_minor": 5
}
